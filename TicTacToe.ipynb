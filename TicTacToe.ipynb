{
 "cells": [
  {
   "cell_type": "code",
   "execution_count": 287,
   "metadata": {
    "collapsed": true
   },
   "outputs": [],
   "source": [
    "import sys\n",
    "from IPython.display import clear_output\n",
    "from random import randint\n",
    "arr=[[' ',' ',' '],[' ',' ',' '],[' ',' ',' ']]\n",
    "XorO={0:'X',1:'O'}\n",
    "player=0\n",
    "count=1\n",
    "player_win_count={0:0, 1:0}"
   ]
  },
  {
   "cell_type": "code",
   "execution_count": 288,
   "metadata": {
    "collapsed": true
   },
   "outputs": [],
   "source": [
    "def init():\n",
    "    '''\n",
    "    initializes variables for new game\n",
    "        arr: tic-tac-toe board\n",
    "        player: randomly choose which player will play first\n",
    "        XorO: dictionar player to X/O\n",
    "        count: move count it can go upto 9\n",
    "    '''\n",
    "    global arr, XorO, count, player\n",
    "    arr=[[' ',' ',' '],[' ',' ',' '],[' ',' ',' ']]\n",
    "    player= randint(0,1)\n",
    "    XorO= choice_X_or_O()\n",
    "    count =1"
   ]
  },
  {
   "cell_type": "code",
   "execution_count": 289,
   "metadata": {},
   "outputs": [],
   "source": [
    "def choice_X_or_O():\n",
    "    '''\n",
    "    asks the 1st player to choose between X or O\n",
    "    '''\n",
    "    inpt =''\n",
    "    dict ={}\n",
    "    while inpt not in ['X','O']:\n",
    "        inpt=input(\"Player{} you want X or O: \".format(player+1)).upper()\n",
    "    else:    \n",
    "        dict[player]=inpt\n",
    "        if(inpt=='X'):\n",
    "            dict[1-player]='O'\n",
    "        else:\n",
    "            dict[1-player]='X'\n",
    "    return dict"
   ]
  },
  {
   "cell_type": "code",
   "execution_count": 290,
   "metadata": {
    "collapsed": true
   },
   "outputs": [],
   "source": [
    "def print_board():\n",
    "    '''\n",
    "    Prints current state of tic-tac-toe board\n",
    "    '''\n",
    "    clear_output()\n",
    "    row_num=1\n",
    "    for row in arr:\n",
    "        print(\"   |   |\")\n",
    "        col_num=1\n",
    "        for elem in row :\n",
    "            print (\" \"+elem+\" \", end='')\n",
    "            if col_num !=3:\n",
    "                print(\"|\",end='')\n",
    "            col_num+=1\n",
    "        if row_num!=3:\n",
    "            print(\"\\n___|___|___\")\n",
    "        else:\n",
    "            print(\"\\n   |   |\")\n",
    "        row_num+=1\n",
    "        "
   ]
  },
  {
   "cell_type": "code",
   "execution_count": 291,
   "metadata": {},
   "outputs": [],
   "source": [
    "def input_move():\n",
    "    '''\n",
    "    This method takes a number from system input, and returns a tupel of row,col on the board\n",
    "    '''\n",
    "    inpt=''\n",
    "    while(inpt not in ['1', '2', '3', '4', '5', '6', '7', '8', '9']):\n",
    "        inpt = input(\"Enter a number between 1 to 9: \")\n",
    "    else:\n",
    "        inpt =int(inpt)-1\n",
    "    return ( int(inpt/3), inpt%3)"
   ]
  },
  {
   "cell_type": "code",
   "execution_count": 292,
   "metadata": {
    "collapsed": true
   },
   "outputs": [],
   "source": [
    "def ask_to_play_next_move():\n",
    "    '''\n",
    "    Takes input from user\n",
    "    '''\n",
    "    print(\"player{}'s Turn\".format(player+1))\n",
    "    return input_move()"
   ]
  },
  {
   "cell_type": "code",
   "execution_count": 293,
   "metadata": {
    "collapsed": true
   },
   "outputs": [],
   "source": [
    "def play():\n",
    "    '''\n",
    "    main game:\n",
    "        1. ask for input cell from a player till the player enters a valid cell\n",
    "        2. update the board\n",
    "        3. check if any player has won, if not switch player, if true return\n",
    "        4. check if the game is draw, if true return\n",
    "        5. repeat from step 1-5\n",
    "    '''\n",
    "    move=ask_to_play_next_move()\n",
    "    while(validate_move(move[0],move[1]) == False):\n",
    "        move = ask_to_play_next_move()\n",
    "    update_board(move)\n",
    "    if(check_is_win(move)):\n",
    "        update_score()\n",
    "        print (\"congratulations, Player{} is Winner!!\" .format(player+1))\n",
    "        return\n",
    "    if(check_draw()):\n",
    "        print (\"Game draw!\")\n",
    "        return\n",
    "    play()"
   ]
  },
  {
   "cell_type": "code",
   "execution_count": 294,
   "metadata": {},
   "outputs": [],
   "source": [
    "def update_score():\n",
    "    '''\n",
    "    increases the score for current player\n",
    "    '''\n",
    "    global player_win_count\n",
    "    player_win_count[player]+=1\n",
    "    "
   ]
  },
  {
   "cell_type": "code",
   "execution_count": 295,
   "metadata": {
    "collapsed": true
   },
   "outputs": [],
   "source": [
    "def update_board(move):\n",
    "    '''\n",
    "    updates the move in the board\n",
    "    '''\n",
    "    global arr\n",
    "    arr[move[0]][move[1]]=XorO[player]\n",
    "    print_board()"
   ]
  },
  {
   "cell_type": "code",
   "execution_count": 296,
   "metadata": {
    "collapsed": true
   },
   "outputs": [],
   "source": [
    "def row_match(row):\n",
    "    '''\n",
    "    checks if the every element in the row is same as played by the player in current move\n",
    "    Input: row\n",
    "    Result: True if win, otherwise False \n",
    "    '''\n",
    "    for col in range(0,3):\n",
    "        if arr[row][col]!=XorO[player]:\n",
    "            return False\n",
    "    return True\n"
   ]
  },
  {
   "cell_type": "code",
   "execution_count": 297,
   "metadata": {
    "collapsed": true
   },
   "outputs": [],
   "source": [
    "def col_match(col):\n",
    "    '''\n",
    "    checks if the every element in the coloumn is same as played by the player in current move\n",
    "    Input: col\n",
    "    Result: True if win, otherwise False \n",
    "    '''\n",
    "    for row in range(0,3):\n",
    "        if arr[row][col]!=XorO[player]:\n",
    "            return False\n",
    "    return True"
   ]
  },
  {
   "cell_type": "code",
   "execution_count": 298,
   "metadata": {
    "collapsed": true
   },
   "outputs": [],
   "source": [
    "def diagonal_match(move):\n",
    "    '''\n",
    "    checks if the every element in the left or right diagonal is same as played by the player in current move\n",
    "    Input: move <---- tuple (row,col)\n",
    "    Result: True if win, otherwise False \n",
    "    '''\n",
    "    if(move[0] != move[1] and (move[0] + move[1]) != 2):\n",
    "        return False\n",
    "    if(move[0] == move[1]):\n",
    "        for i in range(0,3):\n",
    "            if(arr[i][i] != XorO[player]):\n",
    "                break\n",
    "        else: \n",
    "            return True\n",
    "    if(move[0]+move[1]==2):\n",
    "        for i in range(0,3):\n",
    "            if(arr[i][2-i]!=XorO[player]):\n",
    "                break\n",
    "        else: \n",
    "            return True\n",
    "    return False\n"
   ]
  },
  {
   "cell_type": "code",
   "execution_count": 299,
   "metadata": {
    "collapsed": true
   },
   "outputs": [],
   "source": [
    "def swith_player():\n",
    "    global player\n",
    "    player=1-player"
   ]
  },
  {
   "cell_type": "code",
   "execution_count": 300,
   "metadata": {
    "collapsed": true
   },
   "outputs": [],
   "source": [
    "def check_is_win(move):\n",
    "    global count\n",
    "    count+=1\n",
    "    if row_match(move[0]) or col_match(move[1]) or diagonal_match(move):\n",
    "        return True\n",
    "    swith_player()\n",
    "    return False"
   ]
  },
  {
   "cell_type": "code",
   "execution_count": 301,
   "metadata": {
    "collapsed": true
   },
   "outputs": [],
   "source": [
    "def check_draw():\n",
    "    if(count>9):\n",
    "        return True\n",
    "    return False"
   ]
  },
  {
   "cell_type": "code",
   "execution_count": 302,
   "metadata": {
    "collapsed": true
   },
   "outputs": [],
   "source": [
    "def validate_move(row, col):\n",
    "    val=arr[row][col]\n",
    "    if(val!=\" \"):\n",
    "        return False\n",
    "    return True"
   ]
  },
  {
   "cell_type": "code",
   "execution_count": 303,
   "metadata": {
    "collapsed": true
   },
   "outputs": [],
   "source": [
    "def start_game():\n",
    "    init()\n",
    "    print_board()\n",
    "    play()\n",
    "    print(\"Score Player1: {} , Player2: {}\".format(player_win_count[0],player_win_count[1]))\n",
    "    run_again =input(\"do you want to play again Y/N: \")\n",
    "    run_again=run_again.lower()\n",
    "    if(run_again.startswith('y')):\n",
    "        start_game()    "
   ]
  },
  {
   "cell_type": "code",
   "execution_count": 304,
   "metadata": {},
   "outputs": [
    {
     "name": "stdout",
     "output_type": "stream",
     "text": [
      "   |   |\n",
      " X | O | X \n",
      "___|___|___\n",
      "   |   |\n",
      " O | X | X \n",
      "___|___|___\n",
      "   |   |\n",
      " O | X | O \n",
      "   |   |\n",
      "Game draw!\n",
      "Score Player1: 1 , Player2: 2\n",
      "do you want to play again Y/N: dd\n"
     ]
    }
   ],
   "source": [
    "start_game()"
   ]
  },
  {
   "cell_type": "code",
   "execution_count": null,
   "metadata": {
    "collapsed": true
   },
   "outputs": [],
   "source": []
  }
 ],
 "metadata": {
  "kernelspec": {
   "display_name": "Python 3",
   "language": "python",
   "name": "python3"
  }
 },
 "nbformat": 4,
 "nbformat_minor": 2
}
